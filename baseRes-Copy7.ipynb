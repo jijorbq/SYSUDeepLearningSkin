{
 "cells": [
  {
   "cell_type": "code",
   "execution_count": 11,
   "metadata": {},
   "outputs": [],
   "source": [
    "import PIL,torch\n",
    "import matplotlib.pyplot as plt\n",
    "import torch.nn as nn\n",
    "import numpy as np\n",
    "import os\n",
    "import time\n",
    "from PIL import Image\n",
    "from torchvision import transforms\n",
    "from torch.utils.data import Dataset,DataLoader\n",
    "from torchvision.models import resnet50"
   ]
  },
  {
   "cell_type": "code",
   "execution_count": 12,
   "metadata": {},
   "outputs": [],
   "source": [
    "class SkinDataset(Dataset):\n",
    "    folds=5\n",
    "    def __init__(self, root , num_classes,fold=0,training=False,n_augment=2):\n",
    "        self.data_path = []\n",
    "        self.sides =448\n",
    "        self.n_augment = max(n_augment , 4)\n",
    "        self.transform1 = transforms.Compose([\n",
    "                transforms.RandomCrop((512, 512)),\n",
    "                transforms.RandomResizedCrop(size=(224, 224)),\n",
    "                transforms.RandomRotation(10),\n",
    "                transforms.ToTensor()\n",
    "            ]\n",
    "            )\n",
    "        self.transform2 = transforms.Compose([\n",
    "                transforms.RandomResizedCrop(size=(224, 224)),\n",
    "                transforms.RandomRotation(10),\n",
    "                transforms.ToTensor()\n",
    "            ]\n",
    "            )\n",
    "        self.training = training\n",
    "        for label in range(num_classes):\n",
    "            self.data_dir = os.path.join(root,os.listdir(root)[label])\n",
    "            self.filename = os.listdir(self.data_dir)\n",
    "            l = len(self.filename)\n",
    "            inter = l//SkinDataset.folds\n",
    "            picked = list(range(inter* fold,inter * (fold+1))) if not training else list(range(0,inter*fold))+list(range(inter*(fold+1),l))\n",
    "\n",
    "            for i in picked:\n",
    "                file_path = os.path.join(self.data_dir , self.filename[i])\n",
    "#                 img = Image.open(fil)\n",
    "                self.data_path.append((file_path, label))\n",
    "    \n",
    "    def __getitem__(self , index):\n",
    "        index %= len(self.data_path)\n",
    "        ddir , label = self.data_path[index]\n",
    "        img = Image.open(ddir)\n",
    "        temptran = transforms.ToTensor()\n",
    "        if (temptran(img).shape[1]<512 or temptran(img).shape[2]<512):\n",
    "            imgmat = self.transform2(img)\n",
    "        else:\n",
    "            imgmat = self.transform1(img)\n",
    "#         if self.training:\n",
    "#             imgmat += torch.randn(3,self.sides,self.sides)/256\n",
    "        result = (imgmat, label)\n",
    "        del imgmat\n",
    "        del img\n",
    "        return result\n",
    "    \n",
    "    def __len__(self):\n",
    "        return len(self.data_path)*self.n_augment"
   ]
  },
  {
   "cell_type": "code",
   "execution_count": 13,
   "metadata": {},
   "outputs": [
    {
     "name": "stdout",
     "output_type": "stream",
     "text": [
      "1593760179.123463\n",
      "./log/1593760179.123463/\n",
      "resnet50_0.3\n"
     ]
    }
   ],
   "source": [
    "# del training_dataloader\n",
    "batch_size = 128\n",
    "lr = 0.3\n",
    "suffix = '%f' % time.time()\n",
    "log_dir = './log/%s'% suffix +'/'\n",
    "EXPERIMENT = 'resnet50_%s'% str(lr)\n",
    "os.mkdir(log_dir)\n",
    "print(suffix)\n",
    "print(log_dir)\n",
    "print(EXPERIMENT)\n",
    "\n",
    "training_dataset = SkinDataset(os.path.join(os.getcwd(),'./Skin40'), 40, training=True)\n",
    "test_dataset = SkinDataset(os.path.join(os.getcwd(),'./Skin40'), 40)\n",
    "training_dataloader = DataLoader(training_dataset , batch_size = batch_size , num_workers = 1, shuffle = True)\n",
    "test_dataloader = DataLoader(test_dataset , batch_size = batch_size , num_workers = 1, shuffle = True)"
   ]
  },
  {
   "cell_type": "code",
   "execution_count": 14,
   "metadata": {},
   "outputs": [],
   "source": [
    "def train(model, train_loader, loss_func, optimizer, device):\n",
    "    \"\"\"\n",
    "    train model using loss_fn and optimizer in an epoch.\n",
    "    model: CNN networks\n",
    "    train_loader: a Dataloader object with training data\n",
    "    loss_func: loss function\n",
    "    device: train on cpu or gpu device\n",
    "    \"\"\"\n",
    "    total_loss = 0\n",
    "    model.train()\n",
    "    # train the model using minibatch\n",
    "    for i, (images, targets) in enumerate(train_loader):\n",
    "        images = images.to(device)\n",
    "        targets = targets.to(device)\n",
    "        \n",
    "        # forward\n",
    "        outputs = model(images)\n",
    "        loss = loss_func(outputs, targets)\n",
    "\n",
    "        # backward and optimize\n",
    "        optimizer.zero_grad()\n",
    "        loss.backward()\n",
    "        optimizer.step()\n",
    "        \n",
    "        total_loss += loss.item()\n",
    "        \n",
    "        # every  iterations, print loss\n",
    "        if (i + 1) % (10) == 0:\n",
    "            print (\"Step [{}/{}] Train Loss: {:.4f}\"\n",
    "                   .format(i+1, len(train_loader), loss.item()))\n",
    "    return total_loss / len(train_loader)"
   ]
  },
  {
   "cell_type": "code",
   "execution_count": 15,
   "metadata": {},
   "outputs": [],
   "source": [
    "def evaluate(model, val_loader, device, nclasses):\n",
    "    \"\"\"\n",
    "    model: CNN networks\n",
    "    val_loader: a Dataloader object with validation data\n",
    "    device: evaluate on cpu or gpu device\n",
    "    return classification accuracy of the model on val dataset\n",
    "    \"\"\"\n",
    "    # evaluate the model\n",
    "    model.eval()\n",
    "    # context-manager that disabled gradient computation\n",
    "    with torch.no_grad():\n",
    "        correct = 0\n",
    "        total = 0\n",
    "        cm = torch.zeros(nclasses, nclasses)\n",
    "        for i, (images, targets) in enumerate(val_loader):\n",
    "            # device: cpu or gpu\n",
    "            images = images.to(device)\n",
    "            targets = targets.to(device)\n",
    "            outputs = model(images)\n",
    "            _, predicted = torch.max(outputs.data, dim=1)\n",
    "            \n",
    "            \n",
    "            for t, p in zip(targets.view(-1), predicted.view(-1)):\n",
    "                cm[t.long()][p.long()] +=1\n",
    "            correct += (predicted == targets).sum().item()\n",
    "            total += targets.size(0)\n",
    "        accuracy = correct / total\n",
    "        print('Accuracy on Test Set: {:.4f} %'.format(100 * accuracy))\n",
    "        show_heatmap(cm, nclasses)\n",
    "        return accuracy,cm"
   ]
  },
  {
   "cell_type": "code",
   "execution_count": 16,
   "metadata": {},
   "outputs": [],
   "source": [
    "import matplotlib.pyplot as plt\n",
    "def show_curve(ys, title):\n",
    "    \"\"\"\n",
    "    plot curlve for Loss and Accuacy\n",
    "    Args:\n",
    "        ys: loss or acc list\n",
    "        title: loss or accuracy\n",
    "    \"\"\"\n",
    "    x = np.array(range(len(ys)))\n",
    "    y = np.array(ys)\n",
    "    plt.plot(x, y, c='b')\n",
    "    plt.axis()\n",
    "    plt.title('{} curve'.format(title))\n",
    "    plt.xlabel('epoch')\n",
    "    plt.ylabel('{}'.format(title))\n",
    "    plt.show()\n",
    "\n",
    "def show_heatmap(cm, nclasses):\n",
    "    labels = range(nclasses)\n",
    "    fig = plt.figure(figsize=(10,10))\n",
    "    ax = fig.add_subplot(111)\n",
    "    ax.set_yticks(labels)\n",
    "    ax.set_yticklabels(labels)\n",
    "    ax.set_xticks(labels)\n",
    "    ax.set_xticklabels(labels)\n",
    "    \n",
    "    im = ax.imshow(cm, cmap=plt.cm.hot_r )\n",
    "    plt.colorbar(im)\n",
    "    plt.title(\"Confusioin Matrix\")\n",
    "    plt.show()\n",
    "    print('Accuracy of each class:\\n', cm.diag()/(cm.sum(1)+1e-6))\n",
    "    print('Recall of each class:\\n', cm.diag()/(cm.sum(0)+1e-6))"
   ]
  },
  {
   "cell_type": "code",
   "execution_count": 17,
   "metadata": {},
   "outputs": [],
   "source": [
    "def fit(model, num_epochs, optimizer, schedulr, device,nclasses):\n",
    "    \"\"\"\n",
    "     train and evaluate an classifier num_epochs times.\n",
    "    n and evaluate an classifier num_epochs times.\n",
    "    We use optimizer and cross entropy loss to train the model. \n",
    "    Args: \n",
    "        model: CNN network\n",
    "        num_epochs: the number of training epochs\n",
    "        optimizer: optimize the loss function    loss_func.to(device)\n",
    "    loss_func.to(device)\n",
    "        schedulr: scheduling learning rate\n",
    "\n",
    "    \"\"\"\n",
    "    # loss and optimizer\n",
    "    loss_func = nn.CrossEntropyLoss()\n",
    "    \n",
    "    model.to(device)\n",
    "    loss_func.to(device)\n",
    "    \n",
    "    # log train loss and test accuracy\n",
    "    losses = []\n",
    "    accs = []\n",
    "    cms = []\n",
    "    for epoch in range(num_epochs):\n",
    "        \n",
    "        print('Epoch {}/{}: , lr = {}'.format(epoch + 1, num_epochs , optimizer.param_groups[0]['lr']))\n",
    "        # train step\n",
    "        loss = train(model, training_dataloader, loss_func, optimizer, device)\n",
    "        losses.append(loss)\n",
    "        schedulr.step()\n",
    "        \n",
    "        # evaluate step\n",
    "        accuracy,cm = evaluate(model, test_dataloader, device,nclasses)\n",
    "        accs.append(accuracy)\n",
    "        cms.append(cm)\n",
    "    torch.save(model.state_dict(), log_dir+EXPERIMENT+\".pth\")\n",
    "    # show curve\n",
    "    show_curve(losses, \"train loss\")\n",
    "    show_curve(accs, \"test accuracy\")"
   ]
  },
  {
   "cell_type": "code",
   "execution_count": 18,
   "metadata": {},
   "outputs": [],
   "source": [
    "net = resnet50(pretrained=True)\n",
    "net.fc = torch.nn.Sequential(nn.Linear(2048, 512),\n",
    "                             nn.ReLU(inplace=True),\n",
    "                             nn.Dropout(p=0.6),\n",
    "                             nn.Linear(512, 40)\n",
    "                            )"
   ]
  },
  {
   "cell_type": "code",
   "execution_count": 19,
   "metadata": {},
   "outputs": [
    {
     "name": "stdout",
     "output_type": "stream",
     "text": [
      "cuda:1\n"
     ]
    }
   ],
   "source": [
    "# Hyper-parameters\n",
    "num_epochs = 40\n",
    "nclasses = 40\n",
    "feature_tune=False\n",
    "# Device configuration\n",
    "device = torch.device(\"cuda:1\" if torch.cuda.is_available() else \"cpu\")\n",
    "print(device)\n",
    "\n",
    "for parma in net.parameters():\n",
    "    parma.requires_grad = feature_tune\n",
    "for param in net.fc.parameters():\n",
    "    param.requires_grad = True\n",
    "for param in net.avgpool.parameters():\n",
    "    param.requires_grad = True\n",
    "for param in net.layer4.parameters():\n",
    "    param.requires_grad = True\n",
    "\n",
    "# # optimizer\n",
    "# optimizer = torch.optim.Adam(filter(lambda p: p.requires_grad, net.parameters()), lr=lr)\n",
    "# lr = 0.2\n",
    "optimizer = torch.optim.SGD(filter(lambda p: p.requires_grad, net.parameters()), lr=lr)\n",
    "schedulr = torch.optim.lr_scheduler.StepLR(optimizer , step_size = 4 , gamma = 0.8)\n",
    "#for name,param in net.named_parameters():\n",
    "#    print(param.requires_grad, name)"
   ]
  },
  {
   "cell_type": "code",
   "execution_count": null,
   "metadata": {},
   "outputs": [
    {
     "name": "stdout",
     "output_type": "stream",
     "text": [
      "Epoch 1/40: , lr = 0.3\n",
      "Step [10/60] Train Loss: 3.6597\n",
      "Step [20/60] Train Loss: 3.4766\n",
      "Step [30/60] Train Loss: 3.3700\n",
      "Step [40/60] Train Loss: 2.9278\n",
      "Step [50/60] Train Loss: 2.7964\n",
      "Step [60/60] Train Loss: 2.8357\n",
      "Accuracy on Test Set: 22.0833 %\n"
     ]
    },
    {
     "data": {
      "image/png": "[encoded data removed]",
      "text/plain": [
       "<Figure size 720x720 with 2 Axes>"
      ]
     },
     "metadata": {
      "needs_background": "light"
     },
     "output_type": "display_data"
    },
    {
     "name": "stdout",
     "output_type": "stream",
     "text": [
      "Accuracy of each class:\n",
      " tensor([0.0000, 0.0625, 0.7500, 0.0000, 0.0000, 0.1458, 0.0000, 0.0833, 0.2083,\n",
      "        0.0000, 0.1875, 0.4167, 0.0208, 0.1667, 0.1458, 0.6875, 0.2083, 0.0000,\n",
      "        0.0417, 0.5208, 0.7708, 0.0000, 0.1458, 0.7500, 0.5625, 0.8750, 0.1875,\n",
      "        0.0000, 0.1250, 0.0208, 0.0000, 0.0000, 0.0000, 0.3750, 0.0000, 0.4583,\n",
      "        0.7708, 0.1458, 0.0000, 0.0000])\n",
      "Recall of each class:\n",
      " tensor([0.0000, 0.1667, 0.2609, 0.0000, 0.0000, 0.7000, 0.0000, 0.2222, 0.0909,\n",
      "        0.0000, 0.5000, 0.5882, 0.2000, 0.3810, 0.1522, 0.1019, 0.4545, 0.0000,\n",
      "        0.2222, 0.5814, 0.3854, 0.0000, 0.1522, 0.4675, 0.2195, 0.1167, 0.8182,\n",
      "        0.0000, 0.2143, 0.1111, 0.0000, 0.0000, 0.0000, 0.1765, 0.0000, 0.1333,\n",
      "        0.6727, 0.2414, 0.0000, 0.0000])\n",
      "Epoch 2/40: , lr = 0.3\n",
      "Step [10/60] Train Loss: 2.7540\n",
      "Step [20/60] Train Loss: 2.9536\n",
      "Step [30/60] Train Loss: 2.7937\n",
      "Step [40/60] Train Loss: 2.6365\n",
      "Step [50/60] Train Loss: 2.4464\n",
      "Step [60/60] Train Loss: 2.6722\n",
      "Accuracy on Test Set: 28.6979 %\n"
     ]
    },
    {
     "data": {
      "image/png": "[encoded data removed]",
      "text/plain": [
       "<Figure size 720x720 with 2 Axes>"
      ]
     },
     "metadata": {
      "needs_background": "light"
     },
     "output_type": "display_data"
    },
    {
     "name": "stdout",
     "output_type": "stream",
     "text": [
      "Accuracy of each class:\n",
      " tensor([0.0000, 0.1667, 0.3542, 0.7292, 0.0208, 0.2292, 0.2917, 0.3542, 0.5208,\n",
      "        0.0208, 0.0000, 0.6042, 0.1250, 0.2917, 0.1250, 0.3125, 0.2708, 0.0417,\n",
      "        0.0833, 0.6875, 0.6667, 0.1458, 0.1458, 0.5833, 0.1250, 0.7708, 0.3958,\n",
      "        0.0833, 0.3333, 0.4792, 0.0833, 0.0417, 0.3333, 0.3125, 0.0833, 0.2500,\n",
      "        0.8958, 0.1458, 0.0000, 0.3750])\n",
      "Recall of each class:\n",
      " tensor([0.0000, 0.5000, 0.5484, 0.3302, 0.0476, 0.6111, 0.2000, 0.2787, 0.1078,\n",
      "        0.0500, 0.0000, 0.3333, 0.1132, 0.1458, 0.0800, 0.1744, 0.2955, 1.0000,\n",
      "        0.5000, 0.5690, 0.5517, 0.2000, 0.3333, 0.7778, 0.5455, 0.4744, 0.5588,\n",
      "        0.1143, 0.2857, 0.4694, 0.1600, 0.0513, 0.3333, 0.2206, 0.0645, 0.8571,\n",
      "        0.5181, 0.6364, 0.0000, 0.2647])\n",
      "Epoch 3/40: , lr = 0.3\n"
     ]
    }
   ],
   "source": [
    "fit(net, num_epochs, optimizer, schedulr,device, nclasses)  #"
   ]
  },
  {
   "cell_type": "code",
   "execution_count": null,
   "metadata": {},
   "outputs": [],
   "source": [
    "training_dataset[0]"
   ]
  },
  {
   "cell_type": "code",
   "execution_count": null,
   "metadata": {},
   "outputs": [],
   "source": []
  }
 ],
 "metadata": {
  "kernelspec": {
   "display_name": "Python 3",
   "language": "python",
   "name": "python3"
  },
  "language_info": {
   "codemirror_mode": {
    "name": "ipython",
    "version": 3
   },
   "file_extension": ".py",
   "mimetype": "text/x-python",
   "name": "python",
   "nbconvert_exporter": "python",
   "pygments_lexer": "ipython3",
   "version": "3.7.6"
  }
 },
 "nbformat": 4,
 "nbformat_minor": 4
}
