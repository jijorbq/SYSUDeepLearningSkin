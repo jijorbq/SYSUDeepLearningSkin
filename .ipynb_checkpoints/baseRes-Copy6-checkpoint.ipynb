{
 "cells": [
  {
   "cell_type": "code",
   "execution_count": 1,
   "metadata": {},
   "outputs": [],
   "source": [
    "import PIL,torch\n",
    "import matplotlib.pyplot as plt\n",
    "import torch.nn as nn\n",
    "import numpy as np\n",
    "import os\n",
    "import time\n",
    "from PIL import Image\n",
    "from torchvision import transforms\n",
    "from torch.utils.data import Dataset,DataLoader\n",
    "from torchvision.models import resnet50"
   ]
  },
  {
   "cell_type": "code",
   "execution_count": 2,
   "metadata": {},
   "outputs": [],
   "source": [
    "class SkinDataset(Dataset):\n",
    "    folds=5\n",
    "    def __init__(self, root , num_classes,fold=0,training=False,n_augment=2):\n",
    "        self.data_path = []\n",
    "        self.sides =448\n",
    "        self.n_augment = max(n_augment , 4)\n",
    "        self.transform1 = transforms.Compose([\n",
    "                transforms.Resize((512, 512)),\n",
    "                transforms.RandomCrop((224,224)),\n",
    "                transforms.RandomRotation(5),\n",
    "                transforms.ToTensor(),\n",
    "                transforms.Normalize(mean= [0.6075306,0.49116918 ,0.46066117],std = [0.22603881, 0.21623525, 0.2191065 ])\n",
    "            ]\n",
    "            )\n",
    "        self.transform2 = transforms.Compose([\n",
    "                transforms.RandomCrop((224,224)),\n",
    "                transforms.RandomRotation(5),\n",
    "                transforms.ToTensor(),\n",
    "                transforms.Normalize(mean= [0.6075306,0.49116918 ,0.46066117],std = [0.22603881, 0.21623525, 0.2191065 ])\n",
    "            ]\n",
    "            )\n",
    "        self.training = training\n",
    "        for label in range(num_classes):\n",
    "            self.data_dir = os.path.join(root,os.listdir(root)[label])\n",
    "            self.filename = os.listdir(self.data_dir)\n",
    "            l = len(self.filename)\n",
    "            inter = l//SkinDataset.folds\n",
    "            picked = list(range(inter* fold,inter * (fold+1))) if not training else list(range(0,inter*fold))+list(range(inter*(fold+1),l))\n",
    "\n",
    "            for i in picked:\n",
    "                file_path = os.path.join(self.data_dir , self.filename[i])\n",
    "#                 img = Image.open(fil)\n",
    "                self.data_path.append((file_path, label))\n",
    "    \n",
    "    def __getitem__(self , index):\n",
    "        index %= len(self.data_path)\n",
    "        ddir , label = self.data_path[index]\n",
    "        img = Image.open(ddir)\n",
    "        temptran = transforms.ToTensor()\n",
    "        if (temptran(img).shape[1]<512 or temptran(img).shape[2]<512):\n",
    "            imgmat = self.transform2(img)\n",
    "        else:\n",
    "            imgmat = self.transform1(img)\n",
    "#         if self.training:\n",
    "#             imgmat += torch.randn(3,self.sides,self.sides)/256\n",
    "        result = (imgmat, label)\n",
    "        del imgmat\n",
    "        del img\n",
    "        return result\n",
    "    \n",
    "    def __len__(self):\n",
    "        return len(self.data_path)*self.n_augment"
   ]
  },
  {
   "cell_type": "code",
   "execution_count": 3,
   "metadata": {},
   "outputs": [
    {
     "name": "stdout",
     "output_type": "stream",
     "text": [
      "1593700726.506255\n",
      "./log/1593700726.506255/\n",
      "resnet50_0.2\n"
     ]
    }
   ],
   "source": [
    "# del training_dataloader\n",
    "batch_size = 128\n",
    "lr = 0.2\n",
    "suffix = '%f' % time.time()\n",
    "log_dir = './log/%s'% suffix +'/'\n",
    "EXPERIMENT = 'resnet50_%s'% str(lr)\n",
    "os.mkdir(log_dir)\n",
    "print(suffix)\n",
    "print(log_dir)\n",
    "print(EXPERIMENT)\n",
    "\n",
    "training_dataset = SkinDataset(os.path.join(os.getcwd(),'./Skin40'), 40, training=True)\n",
    "test_dataset = SkinDataset(os.path.join(os.getcwd(),'./Skin40'), 40)\n",
    "training_dataloader = DataLoader(training_dataset , batch_size = batch_size , num_workers = 1, shuffle = True)\n",
    "test_dataloader = DataLoader(test_dataset , batch_size = batch_size , num_workers = 1, shuffle = True)"
   ]
  },
  {
   "cell_type": "code",
   "execution_count": 4,
   "metadata": {},
   "outputs": [],
   "source": [
    "def train(model, train_loader, loss_func, optimizer, device):\n",
    "    \"\"\"\n",
    "    train model using loss_fn and optimizer in an epoch.\n",
    "    model: CNN networks\n",
    "    train_loader: a Dataloader object with training data\n",
    "    loss_func: loss function\n",
    "    device: train on cpu or gpu device\n",
    "    \"\"\"\n",
    "    total_loss = 0\n",
    "    model.train()\n",
    "    # train the model using minibatch\n",
    "    for i, (images, targets) in enumerate(train_loader):\n",
    "        images = images.to(device)\n",
    "        targets = targets.to(device)\n",
    "        \n",
    "        # forward\n",
    "        outputs = model(images)\n",
    "        loss = loss_func(outputs, targets)\n",
    "\n",
    "        # backward and optimize\n",
    "        optimizer.zero_grad()\n",
    "        loss.backward()\n",
    "        optimizer.step()\n",
    "        \n",
    "        total_loss += loss.item()\n",
    "        \n",
    "        # every  iterations, print loss\n",
    "        if (i + 1) % (10) == 0:\n",
    "            print (\"Step [{}/{}] Train Loss: {:.4f}\"\n",
    "                   .format(i+1, len(train_loader), loss.item()))\n",
    "    return total_loss / len(train_loader)"
   ]
  },
  {
   "cell_type": "code",
   "execution_count": 5,
   "metadata": {},
   "outputs": [],
   "source": [
    "def evaluate(model, val_loader, device, nclasses):\n",
    "    \"\"\"\n",
    "    model: CNN networks\n",
    "    val_loader: a Dataloader object with validation data\n",
    "    device: evaluate on cpu or gpu device\n",
    "    return classification accuracy of the model on val dataset\n",
    "    \"\"\"\n",
    "    # evaluate the model\n",
    "    model.eval()\n",
    "    # context-manager that disabled gradient computation\n",
    "    with torch.no_grad():\n",
    "        correct = 0\n",
    "        total = 0\n",
    "        cm = torch.zeros(nclasses, nclasses)\n",
    "        for i, (images, targets) in enumerate(val_loader):\n",
    "            # device: cpu or gpu\n",
    "            images = images.to(device)\n",
    "            targets = targets.to(device)\n",
    "            outputs = model(images)\n",
    "            _, predicted = torch.max(outputs.data, dim=1)\n",
    "            \n",
    "            \n",
    "            for t, p in zip(targets.view(-1), predicted.view(-1)):\n",
    "                cm[t.long()][p.long()] +=1\n",
    "            correct += (predicted == targets).sum().item()\n",
    "            total += targets.size(0)\n",
    "        accuracy = correct / total\n",
    "        print('Accuracy on Test Set: {:.4f} %'.format(100 * accuracy))\n",
    "        show_heatmap(cm, nclasses)\n",
    "        return accuracy,cm"
   ]
  },
  {
   "cell_type": "code",
   "execution_count": 6,
   "metadata": {},
   "outputs": [],
   "source": [
    "import matplotlib.pyplot as plt\n",
    "def show_curve(ys, title):\n",
    "    \"\"\"\n",
    "    plot curlve for Loss and Accuacy\n",
    "    Args:\n",
    "        ys: loss or acc list\n",
    "        title: loss or accuracy\n",
    "    \"\"\"\n",
    "    x = np.array(range(len(ys)))\n",
    "    y = np.array(ys)\n",
    "    plt.plot(x, y, c='b')\n",
    "    plt.axis()\n",
    "    plt.title('{} curve'.format(title))\n",
    "    plt.xlabel('epoch')\n",
    "    plt.ylabel('{}'.format(title))\n",
    "    plt.show()\n",
    "\n",
    "def show_heatmap(cm, nclasses):\n",
    "    labels = range(nclasses)\n",
    "    fig = plt.figure(figsize=(10,10))\n",
    "    ax = fig.add_subplot(111)\n",
    "    ax.set_yticks(labels)\n",
    "    ax.set_yticklabels(labels)\n",
    "    ax.set_xticks(labels)\n",
    "    ax.set_xticklabels(labels)\n",
    "    \n",
    "    im = ax.imshow(cm, cmap=plt.cm.hot_r )\n",
    "    plt.colorbar(im)\n",
    "    plt.title(\"Confusioin Matrix\")\n",
    "    plt.show()\n",
    "    print('Accuracy of each class:\\n', cm.diag()/(cm.sum(1)+1e-6))\n",
    "    print('Recall of each class:\\n', cm.diag()/(cm.sum(0)+1e-6))"
   ]
  },
  {
   "cell_type": "code",
   "execution_count": 7,
   "metadata": {},
   "outputs": [],
   "source": [
    "def fit(model, num_epochs, optimizer, schedulr, device,nclasses):\n",
    "    \"\"\"\n",
    "     train and evaluate an classifier num_epochs times.\n",
    "    n and evaluate an classifier num_epochs times.\n",
    "    We use optimizer and cross entropy loss to train the model. \n",
    "    Args: \n",
    "        model: CNN network\n",
    "        num_epochs: the number of training epochs\n",
    "        optimizer: optimize the loss function    loss_func.to(device)\n",
    "    loss_func.to(device)\n",
    "        schedulr: scheduling learning rate\n",
    "\n",
    "    \"\"\"\n",
    "    # loss and optimizer\n",
    "    loss_func = nn.CrossEntropyLoss()\n",
    "    \n",
    "    model.to(device)\n",
    "    loss_func.to(device)\n",
    "    \n",
    "    # log train loss and test accuracy\n",
    "    losses = []\n",
    "    accs = []\n",
    "    cms = []\n",
    "    for epoch in range(num_epochs):\n",
    "        \n",
    "        print('Epoch {}/{}: , lr = {}'.format(epoch + 1, num_epochs , optimizer.param_groups[0]['lr']))\n",
    "        # train step\n",
    "        loss = train(model, training_dataloader, loss_func, optimizer, device)\n",
    "        losses.append(loss)\n",
    "        schedulr.step()\n",
    "        \n",
    "        # evaluate step\n",
    "        accuracy,cm = evaluate(model, test_dataloader, device,nclasses)\n",
    "        accs.append(accuracy)\n",
    "        cms.append(cm)\n",
    "        torch.save(cm,log_dir+str(epoch)+'_cms.pth')   \n",
    "        torch.save(loss,log_dir+str(epoch)+'_tls.pth')   \n",
    "        torch.save(accuracy,log_dir+str(epoch)+'_tas.pth')   \n",
    "    torch.save(cms,log_dir+EXPERIMENT+'_cms.pth')   \n",
    "    torch.save(losses,log_dir+EXPERIMENT+'_tls.pth')   \n",
    "    torch.save(accs,log_dir+EXPERIMENT+'_tas.pth')   \n",
    "    # show curve\n",
    "    show_curve(losses, \"train loss\")\n",
    "    show_curve(accs, \"test accuracy\")"
   ]
  },
  {
   "cell_type": "code",
   "execution_count": 8,
   "metadata": {},
   "outputs": [],
   "source": [
    "net = resnet50(pretrained=True)\n",
    "net.fc = torch.nn.Sequential(nn.Linear(2048, 512),\n",
    "                             nn.ReLU(inplace=True),\n",
    "                             nn.Dropout(p=0.6),\n",
    "                             nn.Linear(512, 40)\n",
    "                            )"
   ]
  },
  {
   "cell_type": "code",
   "execution_count": 9,
   "metadata": {},
   "outputs": [],
   "source": [
    "# Hyper-parameters\n",
    "num_epochs = 40\n",
    "nclasses = 40\n",
    "feature_tune=False\n",
    "# Device configuration\n",
    "device = torch.device(\"cuda:2\" if torch.cuda.is_available() else \"cpu\")\n",
    "\n",
    "\n",
    "for parma in net.parameters():\n",
    "    parma.requires_grad = feature_tune\n",
    "for param in net.fc.parameters():\n",
    "    param.requires_grad = True\n",
    "for param in net.avgpool.parameters():\n",
    "    param.requires_grad = True\n",
    "for param in net.layer4.parameters():\n",
    "    param.requires_grad = True\n",
    "\n",
    "# # optimizer\n",
    "# optimizer = torch.optim.Adam(filter(lambda p: p.requires_grad, net.parameters()), lr=lr)\n",
    "# lr = 0.2\n",
    "optimizer = torch.optim.SGD(filter(lambda p: p.requires_grad, net.parameters()), lr=lr)\n",
    "schedulr = torch.optim.lr_scheduler.StepLR(optimizer , step_size = 10 , gamma = 0.6)\n",
    "#for name,param in net.named_parameters():\n",
    "#    print(param.requires_grad, name)"
   ]
  },
  {
   "cell_type": "code",
   "execution_count": null,
   "metadata": {},
   "outputs": [
    {
     "name": "stdout",
     "output_type": "stream",
     "text": [
      "Epoch 1/40: , lr = 0.2\n",
      "Step [10/60] Train Loss: 3.5568\n",
      "Step [20/60] Train Loss: 3.1379\n",
      "Step [30/60] Train Loss: 2.6620\n",
      "Step [40/60] Train Loss: 2.5045\n",
      "Step [50/60] Train Loss: 2.1690\n",
      "Step [60/60] Train Loss: 2.1113\n",
      "Accuracy on Test Set: 42.0312 %\n"
     ]
    },
    {
     "data": {
      "image/png": "[encoded data removed]",
      "text/plain": [
       "<Figure size 720x720 with 2 Axes>"
      ]
     },
     "metadata": {
      "needs_background": "light"
     },
     "output_type": "display_data"
    },
    {
     "name": "stdout",
     "output_type": "stream",
     "text": [
      "Accuracy of each class:\n",
      " tensor([0.0000, 0.3750, 0.8542, 0.2917, 0.0625, 0.8750, 0.5833, 0.0625, 0.0000,\n",
      "        0.0625, 0.8333, 0.6458, 0.4583, 0.6875, 0.0000, 0.1458, 0.4167, 0.3333,\n",
      "        0.2083, 0.6667, 1.0000, 0.3125, 0.3750, 0.7292, 0.5417, 0.9167, 0.6667,\n",
      "        0.0000, 0.0625, 0.7292, 0.5417, 0.0000, 0.6667, 0.5000, 0.0000, 0.8542,\n",
      "        0.5417, 0.0000, 0.3333, 0.4792])\n",
      "Recall of each class:\n",
      " tensor([0.0000, 0.3830, 0.5395, 0.7778, 0.3750, 0.3962, 0.3684, 0.7500, 0.0000,\n",
      "        0.0857, 0.3922, 0.5345, 0.2973, 0.4342, 0.0000, 0.3182, 0.5263, 0.6667,\n",
      "        0.3448, 0.7111, 0.6234, 0.2381, 0.1915, 0.9459, 0.2826, 0.8000, 0.7111,\n",
      "        0.0000, 0.3000, 0.4861, 0.1453, 0.0000, 0.6957, 0.3117, 0.0000, 0.4141,\n",
      "        0.9286, 0.0000, 0.3636, 0.5227])\n",
      "Epoch 2/40: , lr = 0.2\n",
      "Step [10/60] Train Loss: 2.3809\n",
      "Step [20/60] Train Loss: 1.9278\n",
      "Step [30/60] Train Loss: 1.7033\n",
      "Step [40/60] Train Loss: 1.6663\n",
      "Step [50/60] Train Loss: 1.5850\n",
      "Step [60/60] Train Loss: 1.5180\n",
      "Accuracy on Test Set: 45.3646 %\n"
     ]
    },
    {
     "data": {
      "image/png": "[encoded data removed]",
      "text/plain": [
       "<Figure size 720x720 with 2 Axes>"
      ]
     },
     "metadata": {
      "needs_background": "light"
     },
     "output_type": "display_data"
    },
    {
     "name": "stdout",
     "output_type": "stream",
     "text": [
      "Accuracy of each class:\n",
      " tensor([0.1667, 0.5000, 1.0000, 0.4792, 0.2917, 0.1667, 0.3542, 0.3958, 0.2708,\n",
      "        0.1458, 0.5417, 0.7083, 0.4167, 0.8750, 0.0417, 0.1667, 0.2500, 0.8125,\n",
      "        0.3542, 0.7292, 0.5833, 0.3125, 0.5208, 0.7917, 0.1875, 0.9792, 0.4583,\n",
      "        0.3958, 0.4375, 0.8333, 0.0208, 0.2083, 0.4792, 0.6458, 0.2083, 0.6042,\n",
      "        0.7917, 0.2083, 0.2083, 0.6042])\n",
      "Recall of each class:\n",
      " tensor([0.2857, 0.3750, 0.3200, 0.6053, 0.2500, 0.8889, 0.8500, 0.6333, 0.1733,\n",
      "        0.0875, 0.6667, 0.9189, 0.3571, 0.2838, 0.1429, 0.2222, 0.7500, 0.4756,\n",
      "        0.4474, 0.9211, 0.9333, 0.3261, 0.4098, 0.8636, 0.4091, 0.8704, 0.6667,\n",
      "        0.2346, 0.8400, 0.4545, 1.0000, 0.2778, 0.8846, 0.6078, 0.3333, 0.7250,\n",
      "        0.8837, 0.8333, 0.2041, 0.3085])\n",
      "Epoch 3/40: , lr = 0.2\n"
     ]
    }
   ],
   "source": [
    "fit(net, num_epochs, optimizer, schedulr,device, nclasses)  #"
   ]
  },
  {
   "cell_type": "code",
   "execution_count": null,
   "metadata": {},
   "outputs": [],
   "source": [
    "training_dataset[0]"
   ]
  },
  {
   "cell_type": "code",
   "execution_count": null,
   "metadata": {},
   "outputs": [],
   "source": [
    "%%capture output\n",
    "# Time-consuming code here\n",
    "output.show()"
   ]
  }
 ],
 "metadata": {
  "kernelspec": {
   "display_name": "Python 3",
   "language": "python",
   "name": "python3"
  },
  "language_info": {
   "codemirror_mode": {
    "name": "ipython",
    "version": 3
   },
   "file_extension": ".py",
   "mimetype": "text/x-python",
   "name": "python",
   "nbconvert_exporter": "python",
   "pygments_lexer": "ipython3",
   "version": "3.7.6"
  }
 },
 "nbformat": 4,
 "nbformat_minor": 4
}
