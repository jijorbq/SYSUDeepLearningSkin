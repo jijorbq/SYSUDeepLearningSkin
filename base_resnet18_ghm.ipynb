{
 "cells": [
  {
   "cell_type": "code",
   "execution_count": 25,
   "metadata": {},
   "outputs": [],
   "source": [
    "import PIL,torch\n",
    "import matplotlib.pyplot as plt\n",
    "import torch.nn as nn\n",
    "import numpy as np\n",
    "import os\n",
    "from PIL import Image\n",
    "from torchvision import transforms\n",
    "from torch.utils.data import Dataset,DataLoader\n",
    "from torchvision.models import resnet18"
   ]
  },
  {
   "cell_type": "code",
   "execution_count": 26,
   "metadata": {},
   "outputs": [
    {
     "name": "stdout",
     "output_type": "stream",
     "text": [
      "/home/jovyan/SYSUDeepLearningSkin/Skin40\n"
     ]
    }
   ],
   "source": [
    "from tensorboardX import SummaryWriter\n",
    "\n",
    "#EXPERIMENT = 'lr%s' % str(LR)\n",
    "EXPERIMENT = 'resnet18'\n",
    "\n",
    "datdir = os.path.join(os.getcwd(), 'Skin40')\n",
    "print(datdir)"
   ]
  },
  {
   "cell_type": "code",
   "execution_count": 27,
   "metadata": {},
   "outputs": [],
   "source": [
    "class SkinDataset(Dataset):\n",
    "    folds=5\n",
    "    def __init__(self, root , num_classes,fold=0,training=False,transform=None):\n",
    "        self.data_path = []\n",
    "        self.transform = transform\n",
    "        if self.transform is None:\n",
    "            self.transform = transforms.Compose([\n",
    "                transforms.Resize((784,784)),\n",
    "                transforms.RandomRotation(5),\n",
    "                transforms.ToTensor()\n",
    "            ])\n",
    "        for label in range(num_classes):\n",
    "            self.data_dir = os.path.join(root,os.listdir(root)[label])\n",
    "            self.filename = os.listdir(self.data_dir)\n",
    "            l = len(self.filename)\n",
    "            inter = l//SkinDataset.folds\n",
    "            picked = list(range(inter* fold,inter * (fold+1))) if not training else list(range(0,inter*fold))+list(range(inter*(fold+1),l))\n",
    "\n",
    "            for i in picked:\n",
    "                file_path = os.path.join(self.data_dir , self.filename[i])\n",
    "#                 img = Image.open(fil)\n",
    "                self.data_path.append((file_path, label))\n",
    "    \n",
    "    def __getitem__(self , index):\n",
    "        ddir , label = self.data_path[index]\n",
    "        img = Image.open(ddir)\n",
    "        result = (self.transform(img) , label)\n",
    "        del img\n",
    "        return result\n",
    "    \n",
    "    def __len__(self):\n",
    "        return len(self.data_path)"
   ]
  },
  {
   "cell_type": "code",
   "execution_count": 28,
   "metadata": {},
   "outputs": [],
   "source": [
    "ds = SkinDataset(os.path.join(os.getcwd(),'Skin40'), 40,training=True)"
   ]
  },
  {
   "cell_type": "code",
   "execution_count": 29,
   "metadata": {},
   "outputs": [
    {
     "name": "stdout",
     "output_type": "stream",
     "text": [
      "1920\n",
      "tensor(1017753.8750)\n"
     ]
    }
   ],
   "source": [
    "print(len(ds))\n",
    "print(ds[100][0].sum())"
   ]
  },
  {
   "cell_type": "code",
   "execution_count": 30,
   "metadata": {},
   "outputs": [],
   "source": [
    "# del training_dataloader\n",
    "training_dataset = SkinDataset(os.path.join(os.getcwd(),'Skin40'), 40, training=True)\n",
    "test_dataset = SkinDataset(os.path.join(os.getcwd(),'Skin40'), 40)\n",
    "training_dataloader = DataLoader(training_dataset , batch_size = 3 , num_workers = 1, shuffle = True)\n",
    "test_dataloader = DataLoader(test_dataset , batch_size = 3 , num_workers = 1, shuffle = True)"
   ]
  },
  {
   "cell_type": "code",
   "execution_count": 31,
   "metadata": {},
   "outputs": [],
   "source": [
    "def train(model, train_loader, loss_func, optimizer, device):\n",
    "    \"\"\"\n",
    "    train model using loss_fn and optimizer in an epoch.\n",
    "    model: CNN networks\n",
    "    train_loader: a Dataloader object with training data\n",
    "    loss_func: loss function\n",
    "    device: train on cpu or gpu device\n",
    "    \"\"\"\n",
    "    total_loss = 0\n",
    "    # train the model using minibatch\n",
    "    \n",
    "    for i, (images, targets) in enumerate(train_loader):\n",
    "        images = images.to(device)\n",
    "        targets = targets.to(device)\n",
    "        \n",
    "        # forward\n",
    "        outputs = model(images)\n",
    "        loss = loss_func(outputs, targets)\n",
    "\n",
    "        # backward and optimize\n",
    "        optimizer.zero_grad()\n",
    "        loss.backward()\n",
    "        optimizer.step()\n",
    "        \n",
    "        total_loss += loss.item()\n",
    "        '''\n",
    "        # every 100 iteration, print loss\n",
    "        if (i + 1) % 40 == 0:\n",
    "            print (\"Step [{}/{}] Train Loss: {:.4f}\"\n",
    "                   .format(i+1, len(train_loader), loss.item()))\n",
    "        '''\n",
    "    return total_loss / len(train_loader)"
   ]
  },
  {
   "cell_type": "code",
   "execution_count": 32,
   "metadata": {},
   "outputs": [],
   "source": [
    "def evaluate(model, val_loader, device):\n",
    "    \"\"\"\n",
    "    model: CNN networks\n",
    "    val_loader: a Dataloader object with validation data\n",
    "    device: evaluate on cpu or gpu device\n",
    "    return classification accuracy of the model on val dataset\n",
    "    \"\"\"\n",
    "    # evaluate the model\n",
    "    model.eval()\n",
    "    # context-manager that disabled gradient computation\n",
    "    with torch.no_grad():\n",
    "        correct = 0\n",
    "        total = 0\n",
    "        \n",
    "        all_tar = np.zeros((40)).tolist()\n",
    "        cor_pre =  np.zeros((40)).tolist()\n",
    "\n",
    "        for i, (images, targets) in enumerate(val_loader):\n",
    "            # device: cpu or gpu\n",
    "            images = images.to(device)\n",
    "            targets = targets.to(device)\n",
    "            \n",
    "            outputs = model(images)\n",
    "            \n",
    "            # return the maximum value of each row of the input tensor in the \n",
    "            # given dimension dim, the second return vale is the index location\n",
    "            # of each maxium value found(argmax)\n",
    "            _, predicted = torch.max(outputs.data, dim=1)\n",
    "            cor_bol_list = (predicted == targets)\n",
    "            correct += (cor_bol_list).sum().item()\n",
    "            total += targets.size(0)\n",
    "            \n",
    "            for i,bl in enumerate( cor_bol_list):\n",
    "                all_tar[targets[i].cpu().numpy().tolist()] += 1\n",
    "                if bl:\n",
    "                    cor_pre[predicted[i].cpu().numpy().tolist()] += 1\n",
    "        \n",
    "        each_acc = torch.tensor(cor_pre) / torch.tensor(all_tar)\n",
    "        accuracy = correct / total\n",
    "#        print('Accuracy on Test Set: {:.4f} %'.format(100 * accuracy))\n",
    "        return accuracy,each_acc"
   ]
  },
  {
   "cell_type": "code",
   "execution_count": 33,
   "metadata": {},
   "outputs": [],
   "source": [
    "import matplotlib.pyplot as plt\n",
    "def show_curve(ys, title):\n",
    "    \"\"\"\n",
    "    plot curlve for Loss and Accuacy\n",
    "    Args:\n",
    "        ys: loss or acc list\n",
    "        title: loss or accuracy\n",
    "    \"\"\"\n",
    "    x = np.array(range(len(ys)))\n",
    "    y = np.array(ys)\n",
    "    plt.plot(x, y, c='b')\n",
    "    plt.axis()\n",
    "    plt.title('{} curve'.format(title))\n",
    "    plt.xlabel('epoch')\n",
    "    plt.ylabel('{}'.format(title))\n",
    "    plt.show()"
   ]
  },
  {
   "cell_type": "code",
   "execution_count": 34,
   "metadata": {},
   "outputs": [],
   "source": [
    "def fit(model, num_epochs, optimizer, device):\n",
    "    \"\"\"\n",
    "     train and evaluate an classifier num_epochs times.\n",
    "    n and evaluate an classifier num_epochs times.\n",
    "    We use optimizer and cross entropy loss to train the model. \n",
    "    Args: \n",
    "        model: CNN network\n",
    "        num_epochs: the number of training epochs\n",
    "        optimizer: optimize the loss function    loss_func.to(device)\n",
    "    loss_func.to(device)\n",
    "\n",
    "    \"\"\"\n",
    "    # loss and optimizer\n",
    "    loss_func = nn.CrossEntropyLoss()\n",
    "    \n",
    "    model.to(device)\n",
    "    loss_func.to(device)\n",
    "    \n",
    "    # log train loss and test accuracy\n",
    "    losses = []\n",
    "    accs = []\n",
    "    writer = SummaryWriter(log_dir='log/%s' % EXPERIMENT)\n",
    "\n",
    "    for epoch in range(num_epochs):\n",
    "        print(epoch)        \n",
    "        # tensorboard\n",
    "        # train step\n",
    "        loss = train(model, training_dataloader, loss_func, optimizer, device)\n",
    "        \n",
    "        # save model\n",
    "        torch.save(model.state_dict(), 'model_%s.pth' % EXPERIMENT)\n",
    "        \n",
    "        accuracy,each_acc = evaluate(model, training_dataloader, device)   \n",
    "        print('train')\n",
    "        writer.add_scalar('training loss', loss, epoch)\n",
    "        writer.add_scalar('training acc', accuracy, epoch)        \n",
    "        for i in range(40):\n",
    "            writer.add_scalar('training class %s acc' % str(i),each_acc[i], epoch)\n",
    "            \n",
    "        # evaluate step\n",
    "        accuracy,each_acc = evaluate(model, test_dataloader, device) \n",
    "        print('eval')\n",
    "        writer.add_scalar('validation acc', accuracy, epoch)\n",
    "        for i in range(40):\n",
    "            writer.add_scalar('validation class %s acc' % str(i),each_acc[i], epoch)\n",
    "    writer.close()\n",
    "\n"
   ]
  },
  {
   "cell_type": "code",
   "execution_count": 35,
   "metadata": {},
   "outputs": [],
   "source": [
    "model = resnet18(pretrained=True)"
   ]
  },
  {
   "cell_type": "code",
   "execution_count": 36,
   "metadata": {},
   "outputs": [
    {
     "name": "stdout",
     "output_type": "stream",
     "text": [
      "cuda:1\n",
      "0\n",
      "train\n",
      "eval\n",
      "1\n",
      "train\n",
      "eval\n"
     ]
    }
   ],
   "source": [
    "# Hyper-parameters\n",
    "num_epochs = 2\n",
    "lr = 0.001\n",
    "# Device configuration\n",
    "device = torch.device(\"cuda:1\" if torch.cuda.is_available() else \"cpu\")\n",
    "\n",
    "print(device)\n",
    "#for parma in model.parameters():\n",
    "#    parma.requires_grad = False\n",
    "'''\n",
    "model.classifier = torch.nn.Sequential(torch.nn.Linear(25088, 4096),\n",
    "                                       torch.nn.ReLU(),\n",
    "                                       torch.nn.Dropout(p=0.5),\n",
    "                                       torch.nn.Linear(4096, 4096),\n",
    "                                       torch.nn.ReLU(),\n",
    "                                       torch.nn.Dropout(p=0.5),\n",
    "                                       torch.nn.Linear(4096, 40))\n",
    "'''\n",
    "model.fc = torch.nn.Sequential(nn.Linear(512, 40))\n",
    "cost = torch.nn.CrossEntropyLoss()\n",
    "# optimizer\n",
    "optimizer = torch.optim.Adam(model.fc.parameters(), lr=lr)\n",
    "\n",
    "fit(model, num_epochs, optimizer, device)  #"
   ]
  },
  {
   "cell_type": "code",
   "execution_count": 37,
   "metadata": {},
   "outputs": [
    {
     "name": "stdout",
     "output_type": "stream",
     "text": [
      "cuda\n"
     ]
    }
   ],
   "source": [
    "print(torch.device(\"cuda\" if torch.cuda.is_available() else \"cpu\"))"
   ]
  },
  {
   "cell_type": "code",
   "execution_count": 38,
   "metadata": {},
   "outputs": [
    {
     "name": "stdout",
     "output_type": "stream",
     "text": [
      "0 torch.Size([3, 3, 784, 784]) tensor([ 0, 31,  9])\n",
      "1 torch.Size([3, 3, 784, 784]) tensor([10, 38, 14])\n",
      "2 torch.Size([3, 3, 784, 784]) tensor([ 8, 35, 36])\n",
      "3 torch.Size([3, 3, 784, 784]) tensor([24,  7, 33])\n",
      "4 torch.Size([3, 3, 784, 784]) tensor([18, 33,  4])\n",
      "5 torch.Size([3, 3, 784, 784]) tensor([29, 10, 25])\n",
      "6 torch.Size([3, 3, 784, 784]) tensor([ 0, 36, 25])\n",
      "7 torch.Size([3, 3, 784, 784]) tensor([37, 28, 29])\n",
      "8 torch.Size([3, 3, 784, 784]) tensor([31, 24, 29])\n",
      "9 torch.Size([3, 3, 784, 784]) tensor([ 0,  6, 20])\n",
      "10 torch.Size([3, 3, 784, 784]) tensor([11, 21, 36])\n",
      "11 torch.Size([3, 3, 784, 784]) tensor([ 9, 16, 39])\n",
      "12 torch.Size([3, 3, 784, 784]) tensor([10,  1, 12])\n",
      "13 torch.Size([3, 3, 784, 784]) tensor([10, 28, 39])\n",
      "14 torch.Size([3, 3, 784, 784]) tensor([15,  6,  3])\n",
      "15 torch.Size([3, 3, 784, 784]) tensor([ 7, 19, 33])\n",
      "16 torch.Size([3, 3, 784, 784]) tensor([22,  9, 29])\n",
      "17 torch.Size([3, 3, 784, 784]) tensor([9, 1, 1])\n",
      "18 torch.Size([3, 3, 784, 784]) tensor([28, 19,  8])\n",
      "19 torch.Size([3, 3, 784, 784]) tensor([ 1, 18, 25])\n",
      "20 torch.Size([3, 3, 784, 784]) tensor([14, 11,  9])\n",
      "21 torch.Size([3, 3, 784, 784]) tensor([22, 13,  7])\n",
      "22 torch.Size([3, 3, 784, 784]) tensor([ 8, 30, 15])\n",
      "23 torch.Size([3, 3, 784, 784]) tensor([33, 23, 27])\n",
      "24 torch.Size([3, 3, 784, 784]) tensor([25, 28, 31])\n",
      "25 torch.Size([3, 3, 784, 784]) tensor([ 7, 20, 31])\n",
      "26 torch.Size([3, 3, 784, 784]) tensor([21, 11, 29])\n",
      "27 torch.Size([3, 3, 784, 784]) tensor([36,  4, 22])\n",
      "28 torch.Size([3, 3, 784, 784]) tensor([16, 32,  6])\n",
      "29 torch.Size([3, 3, 784, 784]) tensor([ 0, 14,  8])\n",
      "30 torch.Size([3, 3, 784, 784]) tensor([12, 32,  1])\n",
      "31 torch.Size([3, 3, 784, 784]) tensor([16, 37, 12])\n"
     ]
    }
   ],
   "source": [
    "for i,(dat, tar) in enumerate(test_dataloader):\n",
    "    print(i ,dat.shape, tar)\n",
    "    if ( i>30):\n",
    "        break"
   ]
  },
  {
   "cell_type": "code",
   "execution_count": null,
   "metadata": {},
   "outputs": [],
   "source": []
  }
 ],
 "metadata": {
  "kernelspec": {
   "display_name": "Python 3",
   "language": "python",
   "name": "python3"
  },
  "language_info": {
   "codemirror_mode": {
    "name": "ipython",
    "version": 3
   },
   "file_extension": ".py",
   "mimetype": "text/x-python",
   "name": "python",
   "nbconvert_exporter": "python",
   "pygments_lexer": "ipython3",
   "version": "3.7.6"
  }
 },
 "nbformat": 4,
 "nbformat_minor": 4
}
